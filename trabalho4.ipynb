{
 "cells": [
  {
   "cell_type": "markdown",
   "metadata": {},
   "source": [
    "# Processamento Digital de Imagens\n",
    "\n",
    "1001527 - Turma A\n",
    "\n",
    "Prof. Cesar Henrique Comin\n",
    "\n",
    "## Sistema para desenhar no ar com um objeto colorido\n",
    "\n",
    "### Equipe\n",
    "Igor Teixeira Machado RA: 769708\n",
    "\n",
    "Rafael Vinícius Passador RA: 790036"
   ]
  },
  {
   "cell_type": "markdown",
   "metadata": {},
   "source": [
    "* pip install opencv-python\n",
    "* pip install numpy\n",
    "* python -m pip install scipy"
   ]
  },
  {
   "cell_type": "code",
   "execution_count": 57,
   "metadata": {},
   "outputs": [],
   "source": [
    "import cv2\n",
    "import numpy as np\n",
    "import scipy.ndimage as ndi\n",
    "import matplotlib.pyplot as plt"
   ]
  },
  {
   "cell_type": "code",
   "execution_count": 58,
   "metadata": {},
   "outputs": [],
   "source": [
    "def detect_object(frame):\n",
    "\n",
    "    # Convertendo para HSV.\n",
    "    hsv = cv2.cvtColor(frame, cv2.COLOR_BGR2HSV)\n",
    "\n",
    "    # Escolhendo limites para a detecção da cor do objeto vermelho.\n",
    "    #lower_bound = np.array([10, 100, 20])\n",
    "    #upper_bound = np.array([25, 255, 255])\n",
    "\n",
    "    # Escolhendo limites para a detecção da cor do objeto azul.\n",
    "    lower_bound = np.array([90, 50, 70])\n",
    "    upper_bound = np.array([128, 255, 255])\n",
    "\n",
    "    # Aplicando os limites.\n",
    "    mask = cv2.inRange(hsv, lower_bound, upper_bound)\n",
    "\n",
    "    # Definindo o tamanho do kernel.\n",
    "    kernel = np.ones((5, 5), np.uint8)\n",
    "\n",
    "    mask = cv2.dilate(mask, kernel, iterations=1)\n",
    "\n",
    "    return mask\n",
    "\n",
    "def mass_center(mask, img):\n",
    "\n",
    "    contours, _ = cv2.findContours(mask.copy(), cv2.RETR_EXTERNAL, cv2.CHAIN_APPROX_SIMPLE)\n",
    "    contours = sorted(contours, key=cv2.contourArea, reverse=True)\n",
    "    matrix = cv2.moments(contours[0])\n",
    "    center = (int(matrix['m10'] / matrix['m00']), int(matrix['m01'] / matrix['m00']))\n",
    "\n",
    "    return center\n",
    "\n",
    "def draw_circle(image, coord, radius=5, color=(0, 0, 255), thickness=-1):\n",
    "\n",
    "    # cor: BGR\n",
    "    image = cv2.circle(image, coord, radius, color, thickness)\n",
    "\n",
    "    return image"
   ]
  },
  {
   "cell_type": "code",
   "execution_count": 59,
   "metadata": {},
   "outputs": [
    {
     "data": {
      "text/plain": [
       "-1"
      ]
     },
     "execution_count": 59,
     "metadata": {},
     "output_type": "execute_result"
    }
   ],
   "source": [
    "# Abre dispositivo de captura. O parâmetro 0 faz com que\n",
    "# a primeira câmera encontrada seja utilizada\n",
    "vcap = cv2.VideoCapture(0)\n",
    "\n",
    "while True:\n",
    "    ret, curr_frame = vcap.read()\n",
    "    if ret:\n",
    "        # Redimensionamos a imagem para diminuir o custo computacional\n",
    "        # necessário para processar o frame\n",
    "        resized_frame = cv2.resize(curr_frame, (640, 360))\n",
    "        #print(resized_frame.shape)\n",
    "        #processed_frame = process_frame(resized_frame)\n",
    "        paint_object = detect_object(resized_frame)\n",
    "        \n",
    "        object_mass_center = mass_center(paint_object, resized_frame)\n",
    "        processed_frame = draw_circle(resized_frame, object_mass_center)\n",
    "               \n",
    "        cv2.imshow('frame', processed_frame)\n",
    "    else:\n",
    "        print(\"Frame not available\")\n",
    "\n",
    "    # Esperar 33 milisegundos significa mostrar 30 imagens por segundo (1/0.033).\n",
    "    # Portanto, o FPS (frames per second) do vídeo mostrado será aproximadamente 30.\n",
    "    # O valor não é exatamente 30 porque um tempo é gasto no processamento do frame\n",
    "    key = cv2.waitKey(33) & 0xff\n",
    "\n",
    "    if key == 27:\n",
    "        break\n",
    "\n",
    "vcap.release()\n",
    "cv2.destroyAllWindows()\n",
    "cv2.waitKey(1)"
   ]
  }
 ],
 "metadata": {
  "kernelspec": {
   "display_name": "Python 3.10.5 64-bit",
   "language": "python",
   "name": "python3"
  },
  "language_info": {
   "codemirror_mode": {
    "name": "ipython",
    "version": 3
   },
   "file_extension": ".py",
   "mimetype": "text/x-python",
   "name": "python",
   "nbconvert_exporter": "python",
   "pygments_lexer": "ipython3",
   "version": "3.10.5"
  },
  "orig_nbformat": 4,
  "vscode": {
   "interpreter": {
    "hash": "8b6022ba405034b74f9b5b21ca76328d9d0717a9a5587ab98b729db4504980bb"
   }
  }
 },
 "nbformat": 4,
 "nbformat_minor": 2
}
