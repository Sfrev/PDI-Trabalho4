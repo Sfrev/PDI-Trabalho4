{
 "cells": [
  {
   "cell_type": "markdown",
   "metadata": {},
   "source": [
    "# Processamento Digital de Imagens\n",
    "\n",
    "1001527 - Turma A\n",
    "\n",
    "Prof. Cesar Henrique Comin\n",
    "\n",
    "## Sistema para desenhar no ar com um objeto colorido\n",
    "\n",
    "### Equipe\n",
    "Igor Teixeira Machado RA: 769708\n",
    "\n",
    "Rafael Vinícius Passador RA: 790036"
   ]
  },
  {
   "cell_type": "markdown",
   "metadata": {},
   "source": [
    "* pip install opencv-python\n",
    "* pip install numpy"
   ]
  },
  {
   "cell_type": "code",
   "execution_count": 1,
   "metadata": {},
   "outputs": [],
   "source": [
    "import cv2\n",
    "import numpy as np"
   ]
  },
  {
   "cell_type": "code",
   "execution_count": 2,
   "metadata": {},
   "outputs": [],
   "source": [
    "def detect_object(frame):\n",
    "\n",
    "    # Convertendo para HSV.\n",
    "    hsv = cv2.cvtColor(frame, cv2.COLOR_BGR2HSV)\n",
    "\n",
    "    # Escolhendo limites para a detecção da cor do objeto vermelho.\n",
    "    #lower_bound = np.array([10, 100, 20])\n",
    "    #upper_bound = np.array([25, 255, 255])\n",
    "\n",
    "    # Escolhendo limites para a detecção da cor do objeto azul.\n",
    "    #lower_bound = np.array([90, 50, 70])\n",
    "    lower_bound = np.array([90, 100, 120])\n",
    "    upper_bound = np.array([128, 255, 255])\n",
    "\n",
    "    # Aplicando os limites.\n",
    "    mask = cv2.inRange(hsv, lower_bound, upper_bound)\n",
    "\n",
    "    # Definindo o tamanho do kernel.\n",
    "    kernel = np.ones((7, 7), np.uint8)\n",
    "\n",
    "    # Removendo ruídos.\n",
    "    mask = cv2.morphologyEx(mask, cv2.MORPH_CLOSE, kernel)\n",
    "    mask = cv2.morphologyEx(mask, cv2.MORPH_OPEN, kernel)\n",
    "\n",
    "    return mask\n",
    "\n",
    "def mass_center(mask, img):\n",
    "\n",
    "    contours, _ = cv2.findContours(mask.copy(), cv2.RETR_EXTERNAL, cv2.CHAIN_APPROX_SIMPLE)\n",
    "\n",
    "    if len(contours) > 0:\n",
    "        c = max(contours, key=cv2.contourArea)\n",
    "        matrix = cv2.moments(c)\n",
    "\n",
    "        if matrix[\"m00\"] != 0:\n",
    "            cx = int(matrix[\"m10\"] / matrix[\"m00\"])\n",
    "            cy = int(matrix[\"m01\"] / matrix[\"m00\"])\n",
    "            center = (cx, cy)\n",
    "            \n",
    "            return center\n",
    "    \n",
    "    return None\n",
    "\n",
    "\n",
    "def draw_line(image, start_point, end_point, radius=5, color=(0, 0, 255), thickness=3):\n",
    "    \n",
    "    # cor: BGR\n",
    "    image = cv2.line(image, start_point, end_point, color, thickness)\n",
    "\n",
    "    return image\n",
    "\n",
    "def draw_circle(image, center, radius=5, color=(0, 0, 255), thickness=-1):\n",
    "        \n",
    "    # cor: BGR\n",
    "    image = cv2.circle(image, center, radius, color, thickness)\n",
    "\n",
    "    return image"
   ]
  },
  {
   "cell_type": "code",
   "execution_count": 3,
   "metadata": {},
   "outputs": [
    {
     "data": {
      "text/plain": [
       "-1"
      ]
     },
     "execution_count": 3,
     "metadata": {},
     "output_type": "execute_result"
    }
   ],
   "source": [
    "# Abre dispositivo de captura. O parâmetro 0 faz com que\n",
    "# a primeira câmera encontrada seja utilizada\n",
    "vcap = cv2.VideoCapture(0)\n",
    "points = []\n",
    "\n",
    "while True:\n",
    "    ret, curr_frame = vcap.read()\n",
    "    if ret:\n",
    "        # Redimensionamos a imagem para diminuir o custo computacional\n",
    "        # necessário para processar o frame\n",
    "        resized_frame = cv2.resize(curr_frame, (640, 360))\n",
    "        resized_frame = cv2.flip(resized_frame, 1) # Espelhamento horizontal\n",
    "        paint_object = detect_object(resized_frame)\n",
    "        object_mass_center = mass_center(paint_object, resized_frame)\n",
    "\n",
    "        if object_mass_center is not None:\n",
    "            points.append(object_mass_center)\n",
    "\n",
    "        # Definindo o tamanho maximo da lista de pontos ou se nao houver mais objetos detectados apagamos a linha\n",
    "        if len(points) > 100 or object_mass_center is None and len(points) > 0:\n",
    "            points.pop(0)\n",
    "\n",
    "        for i in range(len(points) - 1):\n",
    "            start_point = points[i]\n",
    "            end_point = points[i + 1]\n",
    "            resized_frame = draw_line(resized_frame, start_point, end_point)\n",
    "               \n",
    "        cv2.imshow('frame', resized_frame)\n",
    "    else:\n",
    "        print(\"Frame not available\")\n",
    "\n",
    "    # Esperar 33 milisegundos significa mostrar 30 imagens por segundo (1/0.033).\n",
    "    # Portanto, o FPS (frames per second) do vídeo mostrado será aproximadamente 30.\n",
    "    # O valor não é exatamente 30 porque um tempo é gasto no processamento do frame\n",
    "    key = cv2.waitKey(33) & 0xff\n",
    "\n",
    "    if key == 27:\n",
    "        break\n",
    "\n",
    "vcap.release()\n",
    "cv2.destroyAllWindows()\n",
    "cv2.waitKey(1)"
   ]
  }
 ],
 "metadata": {
  "kernelspec": {
   "display_name": "Python 3.10.5 64-bit",
   "language": "python",
   "name": "python3"
  },
  "language_info": {
   "codemirror_mode": {
    "name": "ipython",
    "version": 3
   },
   "file_extension": ".py",
   "mimetype": "text/x-python",
   "name": "python",
   "nbconvert_exporter": "python",
   "pygments_lexer": "ipython3",
   "version": "3.10.5"
  },
  "orig_nbformat": 4,
  "vscode": {
   "interpreter": {
    "hash": "8b6022ba405034b74f9b5b21ca76328d9d0717a9a5587ab98b729db4504980bb"
   }
  }
 },
 "nbformat": 4,
 "nbformat_minor": 2
}
