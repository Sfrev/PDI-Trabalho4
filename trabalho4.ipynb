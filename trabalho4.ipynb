{
 "cells": [
  {
   "cell_type": "markdown",
   "metadata": {},
   "source": [
    "# Processamento Digital de Imagens\n",
    "\n",
    "1001527 - Turma A\n",
    "\n",
    "Prof. Cesar Henrique Comin\n",
    "\n",
    "## Sistema para desenhar no ar com um objeto colorido\n",
    "\n",
    "### Equipe\n",
    "Igor Teixeira Machado RA: 769708\n",
    "\n",
    "Rafael Vinícius Passador RA: 790036"
   ]
  },
  {
   "cell_type": "markdown",
   "metadata": {},
   "source": [
    "* pip install opencv-python\n",
    "* pip install numpy\n",
    "* python -m pip install scipy\n",
    "* pip3 install torch torchvision torchaudio --extra-index-url https://download.pytorch.org/whl/cu116"
   ]
  },
  {
   "cell_type": "code",
   "execution_count": 8,
   "metadata": {},
   "outputs": [],
   "source": [
    "import cv2\n",
    "import numpy as np\n",
    "import scipy.ndimage as ndi\n",
    "import torch"
   ]
  },
  {
   "cell_type": "code",
   "execution_count": 10,
   "metadata": {},
   "outputs": [],
   "source": [
    "def process_frame(img):\n",
    "    \n",
    "    img_gray = cv2.cvtColor(img, cv2.COLOR_BGR2GRAY)\n",
    "    img_gray = img_gray.astype(float)\n",
    "    grad_mag = ndi.gaussian_gradient_magnitude(img_gray, sigma=2)\n",
    "    grad_mag_norm = grad_mag - np.min(grad_mag)\n",
    "    grad_mag_norm = 255 * grad_mag_norm / np.max(grad_mag_norm)\n",
    "    grad_mag_norm = np.round(grad_mag_norm).astype(np.uint8)    \n",
    "    return grad_mag_norm\n",
    "\n",
    "def detect_object(frame):\n",
    "    \n",
    "    # Convertendo para HSV\n",
    "    hsv = cv2.cvtColor(frame, cv2.COLOR_BGR2HSV)\n",
    "    # Menor valor e maior valor para a cor verde\n",
    "    lower_bound = np.array([50, 20, 20])   \n",
    "    upper_bound = np.array([100, 255, 255])\n",
    "    # Achando as cores que estão dentro dos limites\n",
    "    mask = cv2.inRange(hsv, lower_bound, upper_bound)\n",
    "\n",
    "    # Define o tamanho do kernel\n",
    "    kernel = np.ones((7,7),np.uint8)\n",
    "    # Removendo ruídos desnecessários\n",
    "    mask = cv2.morphologyEx(mask, cv2.MORPH_CLOSE, kernel)\n",
    "    mask = cv2.morphologyEx(mask, cv2.MORPH_OPEN, kernel)\n",
    "    \n",
    "    return mask\n",
    "\n",
    "def mass_center(coord):\n",
    "    \n",
    "    x = coord[:, 0]\n",
    "    y = coord[:, 1]\n",
    "    x_mean = np.mean(x)\n",
    "    y_mean = np.mean(y)\n",
    "\n",
    "    return x_mean, y_mean\n",
    "\n",
    "def draw_circle(image, coord, radius=10, color=(0, 0, 255), thickness=2):\n",
    "    \n",
    "    image = cv2.circle(image, coord, radius, color, thickness)\n",
    "    return image"
   ]
  },
  {
   "cell_type": "code",
   "execution_count": null,
   "metadata": {},
   "outputs": [],
   "source": [
    "# Abre dispositivo de captura. O parâmetro 0 faz com que\n",
    "# a primeira câmera encontrada seja utilizada\n",
    "vcap = cv2.VideoCapture(0)\n",
    "\n",
    "while True:\n",
    "    ret, curr_frame = vcap.read()\n",
    "    if ret:\n",
    "        # Redimensionamos a imagem para diminuir o custo computacional\n",
    "        # necessário para processar o frame\n",
    "        resized_frame = cv2.resize(curr_frame, (640, 360))\n",
    "        processed_frame = process_frame(resized_frame)\n",
    "        coord = detect_object(processed_frame)\n",
    "        object_mass_center = mass_center(coord)\n",
    "        processed_frame = draw_circle(processed_frame, object_mass_center)\n",
    "               \n",
    "        cv2.imshow('frame', processed_frame)\n",
    "    else:\n",
    "        print(\"Frame not available\")\n",
    "\n",
    "    # Esperar 33 milisegundos significa mostrar 30 imagens por segundo (1/0.033).\n",
    "    # Portanto, o FPS (frames per second) do vídeo mostrado será aproximadamente 30.\n",
    "    # O valor não é exatamente 30 porque um tempo é gasto no processamento do frame\n",
    "    key = cv2.waitKey(33) & 0xff\n",
    "\n",
    "    if key == 27:\n",
    "        break\n",
    "\n",
    "vcap.release()\n",
    "cv2.destroyAllWindows()\n",
    "cv2.waitKey(1)"
   ]
  }
 ],
 "metadata": {
  "kernelspec": {
   "display_name": "Python 3.10.5 64-bit",
   "language": "python",
   "name": "python3"
  },
  "language_info": {
   "codemirror_mode": {
    "name": "ipython",
    "version": 3
   },
   "file_extension": ".py",
   "mimetype": "text/x-python",
   "name": "python",
   "nbconvert_exporter": "python",
   "pygments_lexer": "ipython3",
   "version": "3.10.5"
  },
  "orig_nbformat": 4,
  "vscode": {
   "interpreter": {
    "hash": "8b6022ba405034b74f9b5b21ca76328d9d0717a9a5587ab98b729db4504980bb"
   }
  }
 },
 "nbformat": 4,
 "nbformat_minor": 2
}
